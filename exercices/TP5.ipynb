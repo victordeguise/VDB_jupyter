{
 "cells": [
  {
   "cell_type": "markdown",
   "id": "7b4c5954",
   "metadata": {},
   "source": [
    "# Manipulation de la librairie networkx"
   ]
  },
  {
   "cell_type": "markdown",
   "id": "1f913c9b",
   "metadata": {},
   "source": [
    "## Construction de réseaux d'interactions à partir de données MITAB.\n",
    "\n",
    "Le format (MITAB) stocke des paires de protéines en interaction. Dans ce format, chaque colonne porte une information spécifique.\n",
    "Une description du format est disponible [ici](https://psicquic.github.io/MITAB27Format.html).\n",
    "Les données d'interactions impliquant les protéines surreprésentées de l'expérience ont été obtenues depuis la base de données [Intact](https://www.ebi.ac.uk/intact/home).\n",
    "Ces données sont mises à votre disposition dans le fichier `data/proteins.mitab`.\n",
    "\n",
    "Vous extrairez du fichier les paires d'identifiants uniprot des protéines en interaction.\n",
    "\n",
    "Ces paires de protéines constituent un réseau d'interaction protéine-protéine que vous allez dessiner à l'aide de la libraire [networkx](https://networkx.org/documentation/stable/reference).\n",
    "Le code suivant vous est fourni à titre d'exemple.\n",
    "\n",
    "```python\n",
    "%matplotlib inline\n",
    "import matplotlib.pyplot as plt\n",
    "import networkx as nx\n",
    "G = nx.Graph()\n",
    "\n",
    "fig, ax = plt.subplots(figsize=(8, 8))\n",
    "\n",
    "G.add_edge('a', 'b')\n",
    "G.add_edge('e', 'b')\n",
    "G.add_edge('e', 'a')\n",
    "pos = nx.spring_layout(G)\n",
    "nx.draw(G, pos, with_labels=True, node_color=['blue','blue','red'] , node_size=2000)\n",
    "```\n"
   ]
  },
  {
   "cell_type": "markdown",
   "id": "0f137bd6",
   "metadata": {},
   "source": [
    "Les positions des noeuds sont paramétrables au travers de l'objet [layout](https://networkx.org/documentation/stable/reference/generated/networkx.drawing.layout.spring_layout.html). Une fois une première représentation du réseau obtenue, affinez celle-ci afin de:\n",
    "\n",
    "* Écrire les identifiants uniprot dans les noeuds du réseau.\n",
    "* Faire du diamètre des noeuds une fonction du nombre de partenaires protéiques.\n",
    "* Faire de la largeur des arêtes une fonction du nombre d'experiences (lignes MITAB) detectant cette interaction\n",
    "* Colorier les arêtes soutenues par au moins une interaction de type physique entre proteines.\n"
   ]
  },
  {
   "cell_type": "markdown",
   "id": "c8db0700",
   "metadata": {},
   "source": [
    "## Croisement des données d'interaction et de protéomique\n",
    "\n",
    "En utilisant les données d'abondance du fichier `TCL_wt1.tsv`, essayez de modifier le rendu du réseau pour:\n",
    "* colorier dans une couleur spécifique uniquement les protéines surabondantes dans l'expérience.\n",
    "* N'afficher que les noeuds des protéines mesurées dans l'experience.\n",
    "* Utiliser une échelle de couleur continue fonction de l'abondance pour colorier les noeuds.\n",
    "* colorier les protéines appartenant à des classes GO communes."
   ]
  }
 ],
 "metadata": {
  "kernelspec": {
   "display_name": "Python [conda env:anaconda3-tp_proteomic]",
   "language": "python",
   "name": "conda-env-anaconda3-tp_proteomic-py"
  },
  "language_info": {
   "codemirror_mode": {
    "name": "ipython",
    "version": 3
   },
   "file_extension": ".py",
   "mimetype": "text/x-python",
   "name": "python",
   "nbconvert_exporter": "python",
   "pygments_lexer": "ipython3",
   "version": "3.8.5"
  }
 },
 "nbformat": 4,
 "nbformat_minor": 5
}
